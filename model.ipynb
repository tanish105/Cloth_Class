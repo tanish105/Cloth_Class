{
 "cells": [
  {
   "cell_type": "code",
   "execution_count": 3,
   "metadata": {},
   "outputs": [
    {
     "name": "stdout",
     "output_type": "stream",
     "text": [
      "hello world\n"
     ]
    }
   ],
   "source": [
    "print(\"hello world\")"
   ]
  },
  {
   "cell_type": "code",
   "execution_count": 4,
   "metadata": {},
   "outputs": [],
   "source": [
    "import numpy as np\n",
    "import tensorflow as tf"
   ]
  },
  {
   "cell_type": "code",
   "execution_count": 5,
   "metadata": {},
   "outputs": [],
   "source": [
    "fashion_dataset = tf.keras.datasets.fashion_mnist"
   ]
  },
  {
   "cell_type": "code",
   "execution_count": 6,
   "metadata": {},
   "outputs": [],
   "source": [
    "(x_train, y_train) , (x_test, y_test) = fashion_dataset.load_data()"
   ]
  },
  {
   "cell_type": "code",
   "execution_count": 7,
   "metadata": {},
   "outputs": [
    {
     "name": "stdout",
     "output_type": "stream",
     "text": [
      "(60000, 28, 28)\n",
      "(10000, 28, 28)\n"
     ]
    }
   ],
   "source": [
    "print(x_train.shape)\n",
    "print(x_test.shape)"
   ]
  },
  {
   "cell_type": "code",
   "execution_count": 8,
   "metadata": {},
   "outputs": [
    {
     "data": {
      "text/plain": [
       "<matplotlib.image.AxesImage at 0x2b27fc17390>"
      ]
     },
     "execution_count": 8,
     "metadata": {},
     "output_type": "execute_result"
    },
    {
     "data": {
      "image/png": "[encoded data removed]",
      "text/plain": [
       "<Figure size 640x480 with 1 Axes>"
      ]
     },
     "metadata": {},
     "output_type": "display_data"
    }
   ],
   "source": [
    "import matplotlib.pyplot as plt\n",
    "plt.imshow(x_train[100], cmap = plt.get_cmap('gray'))"
   ]
  },
  {
   "cell_type": "markdown",
   "metadata": {},
   "source": [
    "Model creation"
   ]
  },
  {
   "cell_type": "code",
   "execution_count": 9,
   "metadata": {},
   "outputs": [],
   "source": [
    "#creating the model\n",
    "import keras\n",
    "from keras.utils import np_utils\n",
    "from keras.models import Sequential\n",
    "from keras.layers import Dense, Flatten, Dropout\n",
    "from keras.layers import Conv2D, MaxPooling2D, BatchNormalization\n",
    "from keras import backend as K\n",
    "from tensorflow.keras.utils import to_categorical"
   ]
  },
  {
   "cell_type": "code",
   "execution_count": 10,
   "metadata": {},
   "outputs": [],
   "source": [
    "batch_size = 128\n",
    "epochs = 10\n",
    "\n",
    "img_row = x_train[0].shape[0]\n",
    "img_column = x_train[1].shape[0]\n",
    "\n",
    "#change shape to (60000,28,28,1)\n",
    "x_train = np.reshape(x_train, (x_train.shape[0], img_row, img_column, 1))\n",
    "x_test = np.reshape(x_test, (x_test.shape[0], img_row, img_column, 1))\n",
    "\n",
    "#normalize the data\n",
    "x_train = x_train/255\n",
    "x_test = x_test/255\n",
    "\n",
    "#one hot encoding\n",
    "y_train = np_utils.to_categorical(y_train)\n",
    "y_test = np_utils.to_categorical(y_test)"
   ]
  },
  {
   "cell_type": "code",
   "execution_count": 11,
   "metadata": {},
   "outputs": [],
   "source": [
    "num_classes = y_test.shape[1]\n",
    "num_pixels = x_train.shape[1] * x_train.shape[2]"
   ]
  },
  {
   "cell_type": "code",
   "execution_count": 12,
   "metadata": {},
   "outputs": [],
   "source": [
    "#create CNN model\n",
    "model = Sequential()\n",
    "model.add(Conv2D(32, kernel_size=(3,3),activation='relu', input_shape=(img_row, img_column, 1)))\n",
    "model.add(BatchNormalization())\n",
    "model.add(Conv2D(64, kernel_size=(3,3), activation='relu'))\n",
    "model.add(BatchNormalization())\n",
    "model.add(MaxPooling2D(pool_size=(2,2)))\n",
    "model.add(Dropout(0.25))\n",
    "model.add(Flatten())\n",
    "model.add(Dense(128, activation='relu'))\n",
    "model.add(BatchNormalization())\n",
    "model.add(Dropout(0.5))\n",
    "model.add(Dense(num_classes, activation='softmax'))\n",
    "model.compile(loss='categorical_crossentropy', optimizer='adam', metrics=['accuracy'])"
   ]
  },
  {
   "cell_type": "code",
   "execution_count": 13,
   "metadata": {},
   "outputs": [
    {
     "name": "stdout",
     "output_type": "stream",
     "text": [
      "Model: \"sequential\"\n",
      "_________________________________________________________________\n",
      " Layer (type)                Output Shape              Param #   \n",
      "=================================================================\n",
      " conv2d (Conv2D)             (None, 26, 26, 32)        320       \n",
      "                                                                 \n",
      " batch_normalization (BatchN  (None, 26, 26, 32)       128       \n",
      " ormalization)                                                   \n",
      "                                                                 \n",
      " conv2d_1 (Conv2D)           (None, 24, 24, 64)        18496     \n",
      "                                                                 \n",
      " batch_normalization_1 (Batc  (None, 24, 24, 64)       256       \n",
      " hNormalization)                                                 \n",
      "                                                                 \n",
      " max_pooling2d (MaxPooling2D  (None, 12, 12, 64)       0         \n",
      " )                                                               \n",
      "                                                                 \n",
      " dropout (Dropout)           (None, 12, 12, 64)        0         \n",
      "                                                                 \n",
      " flatten (Flatten)           (None, 9216)              0         \n",
      "                                                                 \n",
      " dense (Dense)               (None, 128)               1179776   \n",
      "                                                                 \n",
      " batch_normalization_2 (Batc  (None, 128)              512       \n",
      " hNormalization)                                                 \n",
      "                                                                 \n",
      " dropout_1 (Dropout)         (None, 128)               0         \n",
      "                                                                 \n",
      " dense_1 (Dense)             (None, 10)                1290      \n",
      "                                                                 \n",
      "=================================================================\n",
      "Total params: 1,200,778\n",
      "Trainable params: 1,200,330\n",
      "Non-trainable params: 448\n",
      "_________________________________________________________________\n",
      "None\n"
     ]
    }
   ],
   "source": [
    "print(model.summary())"
   ]
  },
  {
   "cell_type": "code",
   "execution_count": 14,
   "metadata": {},
   "outputs": [
    {
     "name": "stdout",
     "output_type": "stream",
     "text": [
      "Epoch 1/10\n",
      "469/469 [==============================] - 69s 142ms/step - loss: 0.4362 - accuracy: 0.8481 - val_loss: 4.5084 - val_accuracy: 0.3676\n",
      "Epoch 2/10\n",
      "469/469 [==============================] - 79s 168ms/step - loss: 0.2813 - accuracy: 0.8998 - val_loss: 0.2864 - val_accuracy: 0.8955\n",
      "Epoch 3/10\n",
      "469/469 [==============================] - 79s 168ms/step - loss: 0.2345 - accuracy: 0.9163 - val_loss: 0.2429 - val_accuracy: 0.9136\n",
      "Epoch 4/10\n",
      "469/469 [==============================] - 80s 172ms/step - loss: 0.2048 - accuracy: 0.9268 - val_loss: 0.2192 - val_accuracy: 0.9199\n",
      "Epoch 5/10\n",
      "469/469 [==============================] - 81s 173ms/step - loss: 0.1856 - accuracy: 0.9321 - val_loss: 0.2466 - val_accuracy: 0.9130\n",
      "Epoch 6/10\n",
      "469/469 [==============================] - 83s 176ms/step - loss: 0.1660 - accuracy: 0.9386 - val_loss: 0.2181 - val_accuracy: 0.9245\n",
      "Epoch 7/10\n",
      "469/469 [==============================] - 82s 175ms/step - loss: 0.1537 - accuracy: 0.9445 - val_loss: 0.2363 - val_accuracy: 0.9189\n",
      "Epoch 8/10\n",
      "469/469 [==============================] - 82s 175ms/step - loss: 0.1370 - accuracy: 0.9502 - val_loss: 0.2193 - val_accuracy: 0.9256\n",
      "Epoch 9/10\n",
      "469/469 [==============================] - 101s 215ms/step - loss: 0.1250 - accuracy: 0.9546 - val_loss: 0.2276 - val_accuracy: 0.9230\n",
      "Epoch 10/10\n",
      "469/469 [==============================] - 91s 193ms/step - loss: 0.1199 - accuracy: 0.9555 - val_loss: 0.2168 - val_accuracy: 0.9268\n",
      "Test loss: 0.2168215811252594\n",
      "Test accuracy: 0.926800012588501\n"
     ]
    }
   ],
   "source": [
    "#train the model\n",
    "model_train = model.fit(x_train, y_train, batch_size=batch_size, epochs=epochs, verbose=1, validation_data=(x_test, y_test))\n",
    "score = model.evaluate(x_test, y_test, verbose=0)\n",
    "print('Test loss:', score[0])\n",
    "print('Test accuracy:', score[1])"
   ]
  },
  {
   "cell_type": "code",
   "execution_count": 15,
   "metadata": {},
   "outputs": [],
   "source": [
    "model.save('clothing_classification.h5')"
   ]
  },
  {
   "cell_type": "code",
   "execution_count": 16,
   "metadata": {},
   "outputs": [
    {
     "name": "stdout",
     "output_type": "stream",
     "text": [
      "1/1 [==============================] - 0s 155ms/step\n",
      "8\n",
      "The predicted apparel category is: Bag\n"
     ]
    }
   ],
   "source": [
    "from keras.models import load_model\n",
    "from tensorflow.keras.preprocessing.image import load_img, img_to_array\n",
    "import numpy as np\n",
    "\n",
    "def load_image(filename):\n",
    "    img = load_img(filename, color_mode='grayscale', target_size=(28, 28))\n",
    "    img = img_to_array(img)\n",
    "    img = img.reshape(1, 28, 28, 1)\n",
    "    img = img.astype('float32')\n",
    "    img = img / 255.0\n",
    "    return img\n",
    "\n",
    "# Load and preprocess the image\n",
    "img = load_image('sneaker.jpg')\n",
    "\n",
    "# Load the pre-trained model\n",
    "model = load_model('clothing_classification.h5')\n",
    "\n",
    "# Predict the class\n",
    "class_prediction = np.argmax(model.predict(img), axis=-1)\n",
    "predicted_class = class_prediction[0]\n",
    "print(predicted_class)\n",
    "\n",
    "# Map apparel category with the numerical class\n",
    "if predicted_class == 0:\n",
    "    product = \"T-shirt/top\"\n",
    "elif predicted_class == 1:\n",
    "    product = \"Trouser\"\n",
    "elif predicted_class == 2:\n",
    "    product = \"Pullover\"\n",
    "elif predicted_class == 3:\n",
    "    product = \"Dress\"\n",
    "elif predicted_class == 4:\n",
    "    product = \"Coat\"\n",
    "elif predicted_class == 5:\n",
    "    product = \"Sandal\"\n",
    "elif predicted_class == 6:\n",
    "    product = \"Shirt\"\n",
    "elif predicted_class == 7:\n",
    "    product = \"Sneaker\"\n",
    "elif predicted_class == 8:\n",
    "    product = \"Bag\"\n",
    "else:\n",
    "    product = \"Ankle boot\"\n",
    "\n",
    "print(f'The predicted apparel category is: {product}')"
   ]
  },
  {
   "cell_type": "code",
   "execution_count": 17,
   "metadata": {},
   "outputs": [],
   "source": [
    "import pickle"
   ]
  },
  {
   "cell_type": "code",
   "execution_count": 18,
   "metadata": {},
   "outputs": [],
   "source": [
    "filename = 'clothing_classification.pkl'\n",
    "pickle.dump(model, open(filename, 'wb'))    "
   ]
  },
  {
   "cell_type": "code",
   "execution_count": null,
   "metadata": {},
   "outputs": [],
   "source": []
  }
 ],
 "metadata": {
  "kernelspec": {
   "display_name": "Python 3",
   "language": "python",
   "name": "python3"
  },
  "language_info": {
   "codemirror_mode": {
    "name": "ipython",
    "version": 3
   },
   "file_extension": ".py",
   "mimetype": "text/x-python",
   "name": "python",
   "nbconvert_exporter": "python",
   "pygments_lexer": "ipython3",
   "version": "3.11.9"
  }
 },
 "nbformat": 4,
 "nbformat_minor": 2
}
